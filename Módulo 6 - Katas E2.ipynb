{
 "cells": [
  {
   "cell_type": "code",
   "execution_count": 8,
   "metadata": {},
   "outputs": [
    {
     "name": "stdout",
     "output_type": "stream",
     "text": [
      "Marte es el planeta numero 4 en el sistema solar\n",
      "Los planetas mas cercanos al sol antes de Marte son: ['Mercurio', 'Venus', 'Tierra']\n",
      "Los planetas mas alejados al sol despues de Marte son: ['Jupiter', 'Saturno', 'Urano', 'Neptuno']\n"
     ]
    }
   ],
   "source": [
    "planetas = ['Mercurio', 'Venus', 'Tierra', 'Marte', 'Jupiter', 'Saturno', 'Urano', 'Neptuno']\n",
    "PUsuario = input('escribe el nombre de un planeta')\n",
    "PUIndex = planetas.index(PUsuario)\n",
    "\n",
    "print(PUsuario, 'es el planeta numero', PUIndex +1, 'en el sistema solar')\n",
    "\n",
    "print('Los planetas mas cercanos al sol antes de', PUsuario, 'son:', planetas[0:PUIndex] )\n",
    "print('Los planetas mas alejados al sol despues de' ,PUsuario, 'son:', planetas[PUIndex +1:])"
   ]
  }
 ],
 "metadata": {
  "interpreter": {
   "hash": "eb5b9a3a9e75c1aad0e4b9d8ebb2ea7d7b952cc41b78c7468ceb7e35bad293bc"
  },
  "kernelspec": {
   "display_name": "Python 3.10.2 64-bit",
   "language": "python",
   "name": "python3"
  },
  "language_info": {
   "codemirror_mode": {
    "name": "ipython",
    "version": 3
   },
   "file_extension": ".py",
   "mimetype": "text/x-python",
   "name": "python",
   "nbconvert_exporter": "python",
   "pygments_lexer": "ipython3",
   "version": "3.10.2"
  },
  "orig_nbformat": 4
 },
 "nbformat": 4,
 "nbformat_minor": 2
}
