{
 "cells": [
  {
   "cell_type": "code",
   "execution_count": 1,
   "metadata": {},
   "outputs": [
    {
     "name": "stdout",
     "output_type": "stream",
     "text": [
      "Peligro inminente, Cambien de orbita!!!\n"
     ]
    }
   ],
   "source": [
    "v= 78\n",
    "\n",
    "if v>70: \n",
    "    print('Peligro inminente, Cambien de orbita!!!')\n",
    "else:\n",
    "    print('No te preocupes, todo en orden!!!')"
   ]
  },
  {
   "cell_type": "code",
   "execution_count": 2,
   "metadata": {},
   "outputs": [
    {
     "name": "stdout",
     "output_type": "stream",
     "text": [
      "Ese asteroide va muy lento!!!\n"
     ]
    }
   ],
   "source": [
    "v_ast= 19\n",
    "if v_ast > 20:\n",
    "    print('Ese asteroide va muy rápido!!!')\n",
    "elif v_ast == 20:\n",
    "    print('Creo que puedo ver ese asteroide!!!')\n",
    "else:\n",
    "    print('Ese asteroide va muy lento!!!')"
   ]
  },
  {
   "cell_type": "code",
   "execution_count": 3,
   "metadata": {},
   "outputs": [
    {
     "name": "stdout",
     "output_type": "stream",
     "text": [
      "Ese asteroide no es de importancia!!!\n"
     ]
    }
   ],
   "source": [
    "Vel_ast=1\n",
    "Tam_ast=1\n",
    "\n",
    "if Vel_ast>=70 and Tam_ast>=30:\n",
    "        print('Ese asteroide nos destruira!!!')\n",
    "elif Vel_ast>50 and Vel_ast<70 and Tam_ast>15 and Tam_ast<30:\n",
    "        print('Viene rápido pero lo podemos esquivar,')\n",
    "        print('tambien chocara con nosotros pero el daño sera minimo!!!')\n",
    "else:\n",
    "    print('Ese asteroide no es de importancia!!!')"
   ]
  }
 ],
 "metadata": {
  "interpreter": {
   "hash": "eb5b9a3a9e75c1aad0e4b9d8ebb2ea7d7b952cc41b78c7468ceb7e35bad293bc"
  },
  "kernelspec": {
   "display_name": "Python 3.10.2 64-bit",
   "language": "python",
   "name": "python3"
  },
  "language_info": {
   "codemirror_mode": {
    "name": "ipython",
    "version": 3
   },
   "file_extension": ".py",
   "mimetype": "text/x-python",
   "name": "python",
   "nbconvert_exporter": "python",
   "pygments_lexer": "ipython3",
   "version": "3.10.2"
  },
  "orig_nbformat": 4
 },
 "nbformat": 4,
 "nbformat_minor": 2
}
