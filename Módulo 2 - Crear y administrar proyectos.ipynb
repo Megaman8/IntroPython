{
 "cells": [
  {
   "cell_type": "code",
   "execution_count": 16,
   "metadata": {},
   "outputs": [
    {
     "name": "stdout",
     "output_type": "stream",
     "text": [
      "2022-02-15 22:32:32.018548\n",
      "2022-06-20 00:32:32.018548\n"
     ]
    }
   ],
   "source": [
    "  from datetime import *\n",
    "  from dateutil.relativedelta import *\n",
    "  now = datetime.now()\n",
    "  print(now)\n",
    "\n",
    "  now = now + relativedelta(months=4, weeks=0, days=5, hour=0)\n",
    "\n",
    "  print(now)"
   ]
  }
 ],
 "metadata": {
  "interpreter": {
   "hash": "eb5b9a3a9e75c1aad0e4b9d8ebb2ea7d7b952cc41b78c7468ceb7e35bad293bc"
  },
  "kernelspec": {
   "display_name": "Python 3.10.2 64-bit",
   "language": "python",
   "name": "python3"
  },
  "language_info": {
   "codemirror_mode": {
    "name": "ipython",
    "version": 3
   },
   "file_extension": ".py",
   "mimetype": "text/x-python",
   "name": "python",
   "nbconvert_exporter": "python",
   "pygments_lexer": "ipython3",
   "version": "3.10.2"
  },
  "orig_nbformat": 4
 },
 "nbformat": 4,
 "nbformat_minor": 2
}
