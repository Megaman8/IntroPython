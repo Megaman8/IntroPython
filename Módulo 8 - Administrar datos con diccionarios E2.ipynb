{
 "cells": [
  {
   "cell_type": "code",
   "execution_count": 9,
   "metadata": {},
   "outputs": [
    {
     "name": "stdout",
     "output_type": "stream",
     "text": [
      "25.625\n"
     ]
    }
   ],
   "source": [
    "lunasp = {\n",
    "    'mercurio': 0,\n",
    "    'venus': 0,\n",
    "    'tierra': 1,\n",
    "    'marte': 2,\n",
    "    'jupiter': 79,\n",
    "    'saturno': 82,\n",
    "    'urano': 27,\n",
    "    'neptuno': 14,\n",
    "}\n",
    "\n",
    "lunas = lunasp.values()\n",
    "planetas = len(lunasp.keys())\n",
    "\n",
    "tlunas = 0\n",
    "\n",
    "for luna in lunas:\n",
    "    tlunas = tlunas + luna\n",
    "\n",
    "promedio = tlunas / planetas\n",
    "\n",
    "print(promedio)"
   ]
  }
 ],
 "metadata": {
  "interpreter": {
   "hash": "eb5b9a3a9e75c1aad0e4b9d8ebb2ea7d7b952cc41b78c7468ceb7e35bad293bc"
  },
  "kernelspec": {
   "display_name": "Python 3.10.2 64-bit",
   "language": "python",
   "name": "python3"
  },
  "language_info": {
   "codemirror_mode": {
    "name": "ipython",
    "version": 3
   },
   "file_extension": ".py",
   "mimetype": "text/x-python",
   "name": "python",
   "nbconvert_exporter": "python",
   "pygments_lexer": "ipython3",
   "version": "3.10.2"
  },
  "orig_nbformat": 4
 },
 "nbformat": 4,
 "nbformat_minor": 2
}
