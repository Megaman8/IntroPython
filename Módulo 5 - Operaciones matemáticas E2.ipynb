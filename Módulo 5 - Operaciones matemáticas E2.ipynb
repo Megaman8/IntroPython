{
 "cells": [
  {
   "cell_type": "code",
   "execution_count": 9,
   "metadata": {},
   "outputs": [
    {
     "name": "stdout",
     "output_type": "stream",
     "text": [
      "La distancia entre Urano y Mercurio en kms es de: 5 Kilometros\n",
      "Y la distancia en millas es de : 3.105\n"
     ]
    }
   ],
   "source": [
    "Urano = input('Escribe la distancia del Sol a Urano?')\n",
    "Mercurio = input('Escribe la distancia del Sol a Mercurio?')\n",
    "Urano = int(Urano)\n",
    "Mercurio = int(Mercurio)\n",
    "\n",
    "Distancia = Urano - Mercurio\n",
    "print('La distancia entre Urano y Mercurio en kms es de:',Distancia,'Kilometros')\n",
    "\n",
    "Millas = Distancia * 0.621\n",
    "print('Y la distancia en millas es de :',abs(Millas))\n"
   ]
  }
 ],
 "metadata": {
  "interpreter": {
   "hash": "eb5b9a3a9e75c1aad0e4b9d8ebb2ea7d7b952cc41b78c7468ceb7e35bad293bc"
  },
  "kernelspec": {
   "display_name": "Python 3.10.2 64-bit",
   "language": "python",
   "name": "python3"
  },
  "language_info": {
   "codemirror_mode": {
    "name": "ipython",
    "version": 3
   },
   "file_extension": ".py",
   "mimetype": "text/x-python",
   "name": "python",
   "nbconvert_exporter": "python",
   "pygments_lexer": "ipython3",
   "version": "3.10.2"
  },
  "orig_nbformat": 4
 },
 "nbformat": 4,
 "nbformat_minor": 2
}
